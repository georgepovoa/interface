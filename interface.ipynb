{
 "cells": [
  {
   "cell_type": "code",
   "execution_count": null,
   "metadata": {},
   "outputs": [],
   "source": [
    "import os\n",
    "import shutil\n",
    "import pandas as pd\n",
    "import re"
   ]
  },
  {
   "cell_type": "code",
   "execution_count": null,
   "metadata": {},
   "outputs": [],
   "source": [
    "\n",
    "source_folder = r\".\"\n",
    "destination_folder = os.getcwd() + '\\\\'\n",
    "\n",
    "# fetch all files\n",
    "for file_name in os.listdir(source_folder):\n",
    "    # construct full file path\n",
    "    source = source_folder + file_name\n",
    "    destination = destination_folder + file_name\n",
    "    # copy only files\n",
    "    if os.path.isfile(source):\n",
    "        if os.path.exists (destination):\n",
    "            print ('não copiou pq já existe', file_name)\n",
    "        else:\n",
    "            shutil.copy(source, destination)\n",
    "            print('copiado', file_name)"
   ]
  },
  {
   "cell_type": "code",
   "execution_count": null,
   "metadata": {},
   "outputs": [],
   "source": [
    "df_questoes_similaridade = pd.read_csv ('questao_falta_catalogar_similaridade.csv')\n",
    "df_questoes_similaridade"
   ]
  },
  {
   "cell_type": "code",
   "execution_count": null,
   "metadata": {},
   "outputs": [],
   "source": [
    "df_questoes_comentario = pd.read_csv ('q_falta_catalogar.csv')"
   ]
  },
  {
   "cell_type": "code",
   "execution_count": null,
   "metadata": {},
   "outputs": [],
   "source": [
    "df_questoes_comentario"
   ]
  },
  {
   "cell_type": "code",
   "execution_count": null,
   "metadata": {},
   "outputs": [],
   "source": [
    "df_questoes_final = df_questoes_comentario.drop(['Unnamed: 0','QuestãoN','1','Comentario'],axis= 1)"
   ]
  },
  {
   "cell_type": "code",
   "execution_count": null,
   "metadata": {},
   "outputs": [],
   "source": [
    "df_questoes_final= df_questoes_final.rename(columns={'referencia_final':'referencia_comentario'})"
   ]
  },
  {
   "cell_type": "code",
   "execution_count": null,
   "metadata": {},
   "outputs": [],
   "source": [
    "df_questoes_final"
   ]
  },
  {
   "cell_type": "code",
   "execution_count": null,
   "metadata": {},
   "outputs": [],
   "source": [
    "df_questoes_similaridade = df_questoes_similaridade.drop(['Unnamed: 0','questão pesquisada'],axis=1)"
   ]
  },
  {
   "cell_type": "code",
   "execution_count": null,
   "metadata": {},
   "outputs": [],
   "source": [
    "df_questoes_similaridade"
   ]
  },
  {
   "cell_type": "code",
   "execution_count": null,
   "metadata": {},
   "outputs": [],
   "source": [
    "df_questoes_final = df_questoes_final.join(df_questoes_similaridade)"
   ]
  },
  {
   "cell_type": "code",
   "execution_count": null,
   "metadata": {},
   "outputs": [],
   "source": [
    "df_questoes_final"
   ]
  },
  {
   "cell_type": "code",
   "execution_count": null,
   "metadata": {},
   "outputs": [],
   "source": [
    "df_questoes_final.columns"
   ]
  },
  {
   "cell_type": "code",
   "execution_count": null,
   "metadata": {},
   "outputs": [],
   "source": [
    "df_questoes_final"
   ]
  },
  {
   "cell_type": "code",
   "execution_count": null,
   "metadata": {},
   "outputs": [],
   "source": [
    "endresultado = os.getcwd() + '/resultado/'\n",
    "print(endresultado)\n",
    "if not os.path.exists(endresultado):\n",
    "    os.makedirs ('resultado')\n",
    "\n",
    "\n",
    "if os.path.isfile(endresultado+'resultado.csv'):\n",
    "    df_resultado = pd.read_csv (endresultado+'resultado.csv')\n",
    "    print ('df_resultado foi carregado do arquivo já salvo')\n",
    "else:\n",
    "    df_resultado = pd.DataFrame (columns=['IndQconc', 'Assuntos', 'Ano', '5', 'Orgao', 'Cargo', 'Questão', 'Tipo','gabarito', 'comando', 'texto item'])\n",
    "    df_resultado.to_csv (endresultado+'resultado.csv', index=False)\n",
    "    print ('criado o df_resultado')\n",
    "\n",
    "\n",
    "if os.path.isfile(endresultado+'falta_catalogar.csv'):\n",
    "    df_falta_catalogar = pd.read_csv (endresultado+'falta_catalogar.csv')\n",
    "    print ('df_falta_catalogar foi carregado do arquivo já salvo')\n",
    "else:\n",
    "    df_falta_catalogar =pd.read_csv (os.getcwd() + '/'+'falta_catalogar_final.csv')\n",
    "    df_falta_catalogar.to_csv (endresultado+'falta_catalogar.csv',index=False)\n",
    "    print ('criado o df_falta_catalogar')\n",
    "\n",
    "if os.path.isfile(endresultado+'verificar_depois.csv'):\n",
    "    df_verificar_depois = pd.read_csv (endresultado+'verificar_depois.csv')\n",
    "    print ('df_verificar_depois foi carregado do arquivo já salvo')\n",
    "else:\n",
    "    df_verificar_depois = pd.DataFrame (columns=[df_questoes_final.columns])\n",
    "    df_verificar_depois.to_csv (endresultado+'verificar_depois.csv', index=False)\n",
    "    df_verificar_depois = pd.read_csv (endresultado+'verificar_depois.csv')\n",
    "    print ('criado o df_verificar_depois')"
   ]
  },
  {
   "cell_type": "code",
   "execution_count": null,
   "metadata": {},
   "outputs": [],
   "source": [
    "df_lei = pd.read_csv ('CFcsvtudolei.csv')"
   ]
  },
  {
   "cell_type": "code",
   "execution_count": null,
   "metadata": {},
   "outputs": [],
   "source": [
    "df_lei"
   ]
  },
  {
   "cell_type": "code",
   "execution_count": null,
   "metadata": {},
   "outputs": [],
   "source": [
    "def procura_texto (df_lei,endereço):\n",
    "    resultado = df_lei.Texto.where(df_lei.endereço == endereço)\n",
    "    resultado = resultado.dropna()\n",
    "    resultado = resultado.values\n",
    "    return (resultado[0])"
   ]
  },
  {
   "cell_type": "code",
   "execution_count": null,
   "metadata": {},
   "outputs": [],
   "source": [
    "df_falta_catalogar.columns"
   ]
  },
  {
   "cell_type": "code",
   "execution_count": null,
   "metadata": {},
   "outputs": [],
   "source": [
    "def botoes_comentario (linha_questao,df_lei):\n",
    "    listabotoes_coment =[]\n",
    "    aux_listacoment = eval(linha_questao.referencia_comentario.values[0])\n",
    "    if aux_listacoment:\n",
    "        for item in aux_listacoment:\n",
    "            listabotoes_coment.append([item,procura_texto(df_lei,item)])\n",
    "    return (listabotoes_coment)\n",
    "\n",
    "    "
   ]
  },
  {
   "cell_type": "code",
   "execution_count": null,
   "metadata": {},
   "outputs": [],
   "source": [
    "def botoes_top10 (linha_questao):\n",
    "    listabotoes_top10 =[]\n",
    "    for i in range (1,11):\n",
    "        listabotoes_top10.append ([linha_questao['endereço'+str(i)][0],linha_questao['resultado'+str(i)][0]])\n",
    "    return (listabotoes_top10)"
   ]
  },
  {
   "cell_type": "code",
   "execution_count": null,
   "metadata": {},
   "outputs": [],
   "source": [
    "def pega_linha1 (df_falta_catalogar):\n",
    "    primeiralinha = df_falta_catalogar.head(1)\n",
    "    texto_item =primeiralinha['texto item'][0]\n",
    "    bot_comentario = botoes_comentario (primeiralinha,df_lei)\n",
    "    bot_top10 = botoes_top10 (primeiralinha)\n",
    "    return (texto_item,bot_comentario,bot_top10)\n",
    "\n"
   ]
  },
  {
   "cell_type": "code",
   "execution_count": null,
   "metadata": {},
   "outputs": [],
   "source": [
    "texto_item, bot_comentario,bot_top10 = pega_linha1 (df_falta_catalogar)"
   ]
  },
  {
   "cell_type": "code",
   "execution_count": null,
   "metadata": {},
   "outputs": [],
   "source": [
    "\n",
    "print (texto_item)\n",
    "print ('-'*30)\n",
    "print (bot_comentario)\n",
    "print ('-'*30)\n",
    "print (bot_top10)\n",
    "print ('-'*30)\n",
    "print (bot_top10[1])"
   ]
  },
  {
   "cell_type": "code",
   "execution_count": null,
   "metadata": {},
   "outputs": [],
   "source": [
    "def botao_passar (df_falta_catalogar,df_verificar_depois,end_pasta_versao):\n",
    "    df_falta_catalogar.head(1)\n",
    "    df_verificar_depois= df_verificar_depois.append(df_falta_catalogar.head(1))\n",
    "    df_falta_catalogar.drop(df_falta_catalogar.head(1).index,axis=0,inplace= True)\n",
    "    df_verificar_depois.to_csv(end_pasta_versao+'verificar_depois.csv',index=False)\n",
    "    df_falta_catalogar.to_csv(end_pasta_versao+'falta_catalogar.csv',index=False)\n",
    "    return (df_verificar_depois)\n",
    "\n"
   ]
  },
  {
   "cell_type": "code",
   "execution_count": null,
   "metadata": {},
   "outputs": [],
   "source": [
    "# df_verificar_depois = botao_passar (df_falta_catalogar,df_verificar_depois,endresultado)"
   ]
  },
  {
   "cell_type": "code",
   "execution_count": null,
   "metadata": {},
   "outputs": [],
   "source": [
    "df_falta_catalogar"
   ]
  },
  {
   "cell_type": "code",
   "execution_count": null,
   "metadata": {},
   "outputs": [],
   "source": [
    "df_verificar_depois"
   ]
  },
  {
   "cell_type": "code",
   "execution_count": null,
   "metadata": {},
   "outputs": [],
   "source": [
    "df_falta_catalogar"
   ]
  },
  {
   "cell_type": "markdown",
   "metadata": {},
   "source": [
    "Botão Pesquisar"
   ]
  },
  {
   "cell_type": "code",
   "execution_count": null,
   "metadata": {},
   "outputs": [],
   "source": [
    "dfart = pd.read_csv (r'CFcsvart.csv')\n",
    "dfniv2 = pd.read_csv (r'CFcsvniv2.csv')\n",
    "dfniv3 = pd.read_csv (r'CFcsvniv3.csv')\n",
    "dfniv4 = pd.read_csv (r'CFcsvniv4.csv')\n",
    "df_solei  = pd.read_csv(r'CFcsvtudolei.csv')\n"
   ]
  },
  {
   "cell_type": "code",
   "execution_count": null,
   "metadata": {},
   "outputs": [],
   "source": [
    "artigo = re.compile (r\"[a,A]rt.?\\s?([0-9]{1,3})\\s?-?[A-Z]?\", flags= re.IGNORECASE)\n",
    "artigopesq = re.compile (r'\\bart\\.?(?:igo)?\\b.*?([0-9]{1,3})',flags= re.IGNORECASE)\n",
    "paragrafo1 = re.compile (r'§\\s*([0-9][0-9]?|.nico)',flags= re.IGNORECASE)\n",
    "paragrafo2 = re.compile (r'p[a.]?(?:r.grafo)?\\s*([0-9][0-9]?)',flags= re.IGNORECASE)\n",
    "punico = re.compile (r'\\bp.?(?:r.grafo)?\\s*[u,ú](?:nico)?\\b',flags= re.IGNORECASE)\n",
    "inciso = re.compile (r\"\\s?([LVIX]{1,7})\")\n",
    "alinea1 = re.compile (r'al.nea.*?\\b([a-z])\\b',flags= re.IGNORECASE)\n",
    "alinea2 = re.compile (r\"['\\\"]([a-z])['\\\"]\")"
   ]
  },
  {
   "cell_type": "code",
   "execution_count": null,
   "metadata": {},
   "outputs": [],
   "source": [
    "def porvalor (valor,df_tratado_por_indice): #no caso de artigo usar o df com todos os artigos\n",
    "        valor = str(valor)\n",
    "        resultado = df_tratado_por_indice.index.where(df_tratado_por_indice.end == valor)\n",
    "        resultado = resultado.dropna()\n",
    "        try:\n",
    "                indice = resultado[0] #\n",
    "                return (int(indice))\n",
    "        except:\n",
    "                return(\"\")\n",
    "                \n",
    "def verificaproximodf (indice,df_baixo):\n",
    "    colunas = df_baixo.columns\n",
    "    colunasdesejadas = 'art','niv2','niv3','niv4'\n",
    "    for coluna in colunas:\n",
    "        if coluna not in colunasdesejadas:\n",
    "            df_baixo= df_baixo.drop ([coluna],axis=1)\n",
    "    colunaanterior = df_baixo.iloc[:,-1].name\n",
    "    df_resultado = df_baixo[colunaanterior].where(df_baixo[colunaanterior] == indice)\n",
    "    df_resultado = df_resultado.dropna()\n",
    "    df_resultado\n",
    "    return (df_resultado.size > 0)\n",
    "\n",
    "def niv2porindice (indiceart,dfniv2): \n",
    "    indiceart = int(indiceart)\n",
    "    resultado = pd.DataFrame (columns=['Texto'])\n",
    "    resultado['Texto'] = dfniv2['Texto'].where(dfniv2.art==indiceart)\n",
    "    resultado['end'] = dfniv2['end'].where(dfniv2.art==indiceart)\n",
    "    resultado['endereço'] = dfniv2['endereço'].where(dfniv2.art==indiceart)\n",
    "    resultado = resultado.dropna()\n",
    "    if resultado.size == 0:\n",
    "        resultado = \"\"\n",
    "    return (resultado)\n",
    "def niv3porindice (indiceart,dfniv3):\n",
    "    indiceart = int(indiceart)\n",
    "    resultado = pd.DataFrame (columns=['Texto'])\n",
    "    resultado['Texto'] = dfniv3['Texto'].where(dfniv3.niv2==indiceart)\n",
    "    resultado['end'] = dfniv3['end'].where(dfniv3.niv2==indiceart)\n",
    "    resultado['endereço'] = dfniv3['endereço'].where(dfniv3.niv2==indiceart)\n",
    "    resultado = resultado.dropna()\n",
    "    if resultado.size == 0:\n",
    "        resultado = \"\"\n",
    "    return (resultado)\n",
    "def niv4porindice (indiceart,dfniv4):\n",
    "    indiceart = int(indiceart)\n",
    "    resultado = pd.DataFrame (columns=['Texto'])\n",
    "    resultado['Texto'] = dfniv4['Texto'].where(dfniv4.niv3==indiceart)\n",
    "    resultado['end'] = dfniv4['end'].where(dfniv4.niv3==indiceart)\n",
    "    resultado['endereço'] = dfniv4['endereço'].where(dfniv4.niv3==indiceart)\n",
    "    resultado = resultado.dropna()\n",
    "    if resultado.size == 0:\n",
    "        resultado = \"\"\n",
    "    return (resultado)\n",
    "def achaart (texto):\n",
    "    trecholei = artigo.search(texto)\n",
    "    if trecholei is None:\n",
    "        resultado =\"\"\n",
    "    else:\n",
    "        resultado = trecholei.group(1)\n",
    "    return resultado\n",
    "def paragrafocoment (texto):\n",
    "    resultado = \"\"\n",
    "    aux = paragrafo1.search (texto)\n",
    "    if aux is not None:\n",
    "        try:\n",
    "            int (aux.group(1))\n",
    "            resultado = aux.group(1)\n",
    "        except:\n",
    "            resultado = 'Parágrafo Único'\n",
    "    aux = paragrafo2.search (texto)\n",
    "    if aux is not None:\n",
    "        resultado = aux.group(1)\n",
    "    aux = punico.search (texto)\n",
    "    if aux is not None:\n",
    "        resultado = 'Parágrafo Único'\n",
    "    return (resultado)\n",
    "def artcoment (texto):\n",
    "    resultado = artigopesq.search (texto)\n",
    "    if resultado is not None:\n",
    "        resultado = resultado.group(1)\n",
    "    else:\n",
    "        resultado =\"\"\n",
    "    return (resultado)\n",
    "def incicoment (texto):\n",
    "    resultado = inciso.search (texto)\n",
    "    if resultado is not None:\n",
    "        resultado = resultado.group(1)\n",
    "    else:\n",
    "        resultado =\"\"\n",
    "    return (resultado)\n",
    "def achaalinea (texto):\n",
    "    aux1 =  alinea1.search(texto)\n",
    "    aux2 = alinea2.search (texto)\n",
    "    resultado = \"\"\n",
    "    if aux1 is not None:\n",
    "        resultado = aux1.group(1)\n",
    "    elif aux2 is not None:\n",
    "        resultado = aux2.group(1)\n",
    "    return (resultado)\n",
    "def procuradf (textoprocurado, coluna):\n",
    "    resultado =  coluna.where(coluna == textoprocurado).dropna()\n",
    "    return (not resultado.empty)"
   ]
  },
  {
   "cell_type": "code",
   "execution_count": null,
   "metadata": {},
   "outputs": [],
   "source": [
    "def bot_procurar (texto,dfart,dfniv2,dfniv3,dfniv4):\n",
    "    resultado=\"\"\n",
    "    auxart = artcoment(texto)\n",
    "    if auxart != \"\" and int(auxart) in dfart.index.values:\n",
    "            indartigo = porvalor (auxart,dfart) #acha o indice do artigo\n",
    "            if verificaproximodf (indartigo,dfniv2): #verifica se tem o nivel 2\n",
    "                auxniv2=\"\"\n",
    "                df_pesq_niv2 = niv2porindice (indartigo,dfniv2) #retorna o nivel 2 do artigo achado\n",
    "                auxparagrafo = paragrafocoment (texto)\n",
    "                auxniv2 = auxparagrafo\n",
    "                if auxparagrafo != \"\":\n",
    "                    tiponiv2 = \"paragrafo\"\n",
    "                if not procuradf (auxparagrafo, df_pesq_niv2['end']):\n",
    "                    auxparagrafo = \"\"\n",
    "                    auxniv2 = auxparagrafo\n",
    "                    tiponiv2 =\"\"\n",
    "                if auxparagrafo == \"\":\n",
    "                    auxinciso = incicoment (texto)\n",
    "                    auxniv2 = auxinciso\n",
    "                    tiponiv2 = 'inciso'\n",
    "                    if not procuradf (auxinciso, df_pesq_niv2['end']):\n",
    "                        auxinciso = \"\"\n",
    "                        auxniv2 = auxinciso\n",
    "                        tiponiv2 =\"\"\n",
    "                if auxniv2 ==\"\":\n",
    "                    resultado = dfart.endereço[indartigo]\n",
    "                else:\n",
    "                    indniv2 = porvalor (auxniv2,df_pesq_niv2)\n",
    "                    df_pesq_niv3 = niv3porindice (indniv2, dfniv3)\n",
    "                    if verificaproximodf (indniv2,dfniv3):\n",
    "                        if tiponiv2 == 'paragrafo':\n",
    "                            auxinciso = incicoment (texto)\n",
    "                            if  not  procuradf (auxinciso, df_pesq_niv3['end']):\n",
    "                                auxinciso =\"\"\n",
    "                            if auxinciso ==\"\":\n",
    "                                resultado = dfniv2.endereço[indniv2]\n",
    "                            else:\n",
    "                                indniv3 = porvalor (auxinciso,df_pesq_niv3)\n",
    "                                if verificaproximodf (indniv3,dfniv4):\n",
    "                                    df_pesq_niv4 = niv4porindice (indniv3,dfniv4)\n",
    "                                    auxalinea = achaalinea (texto)\n",
    "                                    if not procuradf (auxalinea, df_pesq_niv4['end']):\n",
    "                                        auxalinea = \"\"\n",
    "                                    if auxalinea == \"\":\n",
    "                                        resultado= dfniv3.endereço[indniv3]\n",
    "                                    else:\n",
    "                                        indniv4 = porvalor (auxalinea, df_pesq_niv4)\n",
    "                                        resultado = dfniv4.endereço[indniv4]\n",
    "                                else:\n",
    "                                    resultado = dfniv3.endereço[indniv3]\n",
    "                        else:\n",
    "                            df_pesq_niv3 = niv3porindice (indniv2, dfniv3)\n",
    "                            auxalinea = achaalinea (texto)\n",
    "                            if not procuradf (auxalinea, df_pesq_niv3['end']):\n",
    "                                auxalinea = \"\"\n",
    "                            if auxalinea == \"\":\n",
    "                                resultado= dfniv2.endereço[indniv2]\n",
    "                            else:\n",
    "                                indniv3 = porvalor (auxalinea, df_pesq_niv3)\n",
    "                                resultado = dfniv3.endereço[indniv3]\n",
    "\n",
    "                    else:\n",
    "                        resultado = dfniv2.endereço[indniv2]       \n",
    "                        \n",
    "            else:\n",
    "                if indartigo !=\"\":\n",
    "                    resultado = dfart.endereço[indartigo]\n",
    "    else:\n",
    "        resultado =  (\"\")\n",
    "    return (resultado)"
   ]
  },
  {
   "cell_type": "code",
   "execution_count": null,
   "metadata": {},
   "outputs": [],
   "source": [
    "texto = 'art. 4'\n",
    "bot_procurar (texto,dfart,dfniv2,dfniv3,dfniv4)"
   ]
  },
  {
   "cell_type": "code",
   "execution_count": null,
   "metadata": {},
   "outputs": [],
   "source": [
    "def botao_salva (df_resultado,df_falta_catalogar, endereco ):\n",
    "    colunas_desejadas = df_resultado.columns.values\n",
    "    linha_desejada = df_falta_catalogar.head(1)\n",
    "    for coluna in linha_desejada.columns.values:\n",
    "        if coluna not in colunas_desejadas:\n",
    "            linha_desejada = linha_desejada.drop(coluna, axis=1)\n",
    "    linha_desejada['endereco'] = endereco\n",
    "    return (linha_desejada)"
   ]
  },
  {
   "cell_type": "code",
   "execution_count": null,
   "metadata": {},
   "outputs": [],
   "source": [
    "#>>>> ALTERAR <<<<<<\n",
    "linha_questao = botao_salva (df_resultado,df_falta_catalogar,'cf88,1,2,,,11,152,,')"
   ]
  },
  {
   "cell_type": "code",
   "execution_count": null,
   "metadata": {},
   "outputs": [],
   "source": [
    "linha_questao"
   ]
  },
  {
   "cell_type": "code",
   "execution_count": null,
   "metadata": {},
   "outputs": [],
   "source": [
    "def telaconfirmação (linha_questao):\n",
    "    endereço =[]\n",
    "    comando = linha_questao.comando.values[0]\n",
    "    texto_item = linha_questao['texto item'].values[0]\n",
    "    endereço.append ( linha_questao.endereco.values[0])\n",
    "    endereço.append (procura_texto (df_lei,linha_questao.endereco.values[0]))\n",
    "\n",
    "    return (comando,texto_item,endereço)\n"
   ]
  },
  {
   "cell_type": "code",
   "execution_count": null,
   "metadata": {},
   "outputs": [],
   "source": [
    "comando,texto_item,end = telaconfirmação (linha_questao)\n",
    "end"
   ]
  },
  {
   "cell_type": "code",
   "execution_count": null,
   "metadata": {},
   "outputs": [],
   "source": [
    "def botao_sim (linha_questao,df_falta_catalogar, df_resultado,end_pasta_resultado):\n",
    "    df_falta_catalogar.drop(df_falta_catalogar.head(1).index, axis=0, inplace= True)\n",
    "    df_resultado= df_resultado.append(linha_questao)\n",
    "    df_falta_catalogar.to_csv(end_pasta_resultado+'falta_catalogar.csv',index=False)\n",
    "    df_resultado.to_csv(end_pasta_resultado+'resultado.csv',index=False)\n",
    "    return(df_resultado)\n"
   ]
  },
  {
   "cell_type": "code",
   "execution_count": null,
   "metadata": {},
   "outputs": [],
   "source": [
    " ### BOTAO CONFIRMAR ###\n",
    "# df_resultado = botao_sim (linha_questao,df_falta_catalogar,df_resultado,endresultado)"
   ]
  },
  {
   "cell_type": "code",
   "execution_count": null,
   "metadata": {},
   "outputs": [],
   "source": [
    "df_resultado"
   ]
  },
  {
   "cell_type": "code",
   "execution_count": null,
   "metadata": {},
   "outputs": [],
   "source": []
  },
  {
   "cell_type": "code",
   "execution_count": null,
   "metadata": {},
   "outputs": [],
   "source": [
    "from os import stat\n",
    "from posixpath import commonpath\n",
    "from tkinter import *\n",
    "import time\n",
    "import pandas as pd\n",
    "\n",
    "root = Tk()\n",
    "\n",
    "\n",
    "def botao_salva (df_resultado,df_falta_catalogar, endereco ):\n",
    "    colunas_desejadas = df_resultado.columns.values\n",
    "    linha_desejada = df_falta_catalogar.head(1)\n",
    "    for coluna in linha_desejada.columns.values:\n",
    "        if coluna not in colunas_desejadas:\n",
    "            linha_desejada = linha_desejada.drop(coluna, axis=1)\n",
    "    linha_desejada['endereco'] = endereco\n",
    "    return (linha_desejada)\n",
    "\n",
    "def telaconfirmação (linha_questao):\n",
    "    endereço =[]\n",
    "    comando = linha_questao.comando.values[0]\n",
    "    texto_item = linha_questao['texto item'].values[0]\n",
    "    endereço.append ( linha_questao.endereco.values[0])\n",
    "    endereço.append (procura_texto (df_lei,linha_questao.endereco.values[0]))\n",
    "\n",
    "    return (comando,texto_item,endereço)\n",
    "\n",
    "\n",
    "def pass_btn_func(id, root):\n",
    "    pass\n",
    "\n",
    "def telaconfirmação (linha_questao):\n",
    "        endereço =[]\n",
    "        comando = linha_questao.comando.values[0]\n",
    "        texto_item = linha_questao['texto item'].values[0]\n",
    "        endereço.append ( linha_questao.endereco.values[0])\n",
    "        endereço.append (procura_texto (df_lei,linha_questao.endereco.values[0]))\n",
    "\n",
    "        return (comando,texto_item,endereço)\n",
    "\n",
    "\n",
    "def salvar_btn_func(end,df_resultado):\n",
    "    def botao_sim (linha_questao,df_falta_catalogar, df_resultado,end_pasta_resultado,wind,root):\n",
    "        df_falta_catalogar.drop(df_falta_catalogar.head(1).index, axis=0, inplace= True)\n",
    "        df_resultado= df_resultado.append(linha_questao)\n",
    "        df_falta_catalogar.to_csv(end_pasta_resultado+'falta_catalogar.csv',index=False)\n",
    "        df_resultado.to_csv(end_pasta_resultado+'resultado.csv',index=False)\n",
    "        wind.destroy() \n",
    "\n",
    "        l_id.update()\n",
    "        l_texto_item.update()\n",
    "        l_comando.update()\n",
    "\n",
    "\n",
    "        refresh(root)\n",
    "        return(df_resultado)\n",
    "\n",
    "    \n",
    "    linha_questao = botao_salva (df_resultado,df_falta_catalogar,end)\n",
    "    \n",
    "    cmd,txt_it,endereco_confirma = telaconfirmação(linha_questao)\n",
    "\n",
    "\n",
    "    win = Toplevel()\n",
    "    win.wm_title(\"Window\")\n",
    "    win.geometry(\"950x650\")\n",
    "\n",
    "\n",
    "    l_id = Label(win, text=f\"Comando : {cmd}\",wraplength=800)\n",
    "    l_id.grid(row=0, column=0,pady=30)\n",
    "\n",
    "    l_comando = Label(win, text=f\"texto item : {txt_it}\",wraplength=800)\n",
    "    l_comando.grid(row=1, column=0,pady=30)\n",
    "\n",
    "\n",
    "    l_texto_item = Label(win, text=f\"endereco: {endereco_confirma[1]}\",wraplength=800)\n",
    "    l_texto_item.grid(row=2, column=0,pady=30)\n",
    "\n",
    "\n",
    "    s = Button(win, text=\"Sim\", command= lambda : botao_sim (linha_questao,df_falta_catalogar,df_resultado,endresultado,win,root))\n",
    "\n",
    "    s.grid(row=5, column=0)\n",
    "\n",
    "    n = Button(win, text=\"Não\", command=win.destroy)\n",
    "    n.grid(row=5, column=1)\n",
    "\n",
    "    win.bind('<Return>', lambda e: botao_sim (linha_questao,df_falta_catalogar,df_resultado,endresultado,win,root))\n",
    "\n",
    "\n",
    "def resultado_texto():\n",
    "    return str(var.get())*500\n",
    "\n",
    "\n",
    "def find_e_btn_func():\n",
    "    label_result = Label(text=procura_texto(df_lei,resultado_texto()) , wraplength=800)\n",
    "    label_result.grid(column=0, row=100, columnspan=5)\n",
    "\n",
    "\n",
    "def sel():\n",
    "    print(var.get())\n",
    "    salvar_btn[\"state\"] = ACTIVE\n",
    "\n",
    "def refresh(self):\n",
    "    self.destroy()\n",
    "    os.popen(\"interface.ipynb\")\n",
    "\n",
    "linha_questao = botao_salva (df_resultado,df_falta_catalogar,'cf88,1,2,,,11,152,,')\n",
    "cmd,txt_it,endereco_confirma = telaconfirmação(linha_questao)\n",
    "\n",
    "var = StringVar()\n",
    "\n",
    "label_id = Label(root, text=\"Texto item : \" + str(txt_it),wraplength=350)\n",
    "\n",
    "pass_btn = Button(root, text=\"PASSAR\", command=lambda: pass_btn_func(id, root))\n",
    "\n",
    "salvar_btn = Button(root, text=\"Salvar\", state=DISABLED,\n",
    "                    command=lambda: salvar_btn_func(var.get(),df_resultado))\n",
    "\n",
    "e = Entry(root)\n",
    "\n",
    "find_e_btn = Button(root, text=\"procurar\", command=find_e_btn_func)\n",
    "\n",
    "master_frame = LabelFrame(root)\n",
    "\n",
    "\n",
    "master_frame.grid(row =1, column=0, columnspan=10) \n",
    "\n",
    "def on_configure(event):\n",
    "    # update scrollregion after starting 'mainloop'\n",
    "    # when all widgets are in canvas\n",
    "    btns_frame.configure(scrollregion=btns_frame.bbox('all'))\n",
    "\n",
    "btns_frame = Canvas(master_frame,width=1300,height=500)\n",
    "\n",
    "btns_frame.pack(side=LEFT)\n",
    "\n",
    "\n",
    "scrollbar = Scrollbar(master_frame, command=btns_frame.yview)\n",
    "scrollbar.pack(side=LEFT, fill='y')\n",
    "\n",
    "btns_frame.configure(yscrollcommand = scrollbar.set)\n",
    "\n",
    "# update scrollregion after starting 'mainloop'\n",
    "# when all widgets are in canvas\n",
    "btns_frame.bind('<Configure>', on_configure)\n",
    "\n",
    "frame = Frame(btns_frame)\n",
    "btns_frame.create_window((0,0), window=frame, anchor='nw')\n",
    "\n",
    "label_id.grid(row=0, column=0,columnspan=3)\n",
    "pass_btn.grid(row=0, column=4,padx=25)\n",
    "salvar_btn.grid(row=0, column=5,padx=25)\n",
    "find_e_btn.grid(row=99, column=6,padx=25)\n",
    "row_frame = 1\n",
    "set_column = -1\n",
    "\n",
    "for i in range(len(bot_top10)): \n",
    "    set_column += 1\n",
    "    if i % 4 == 0 and i >= 4:\n",
    "        row_frame += 1\n",
    "        set_column = 0\n",
    "    globals()[f'result{i}'] = LabelFrame(frame, pady=5, padx=5,)\n",
    "\n",
    "    label_frame = Label(globals()[f'result{i}'], text=bot_top10[i][1], wraplength=300)\n",
    "    label_frame.pack()\n",
    "\n",
    "    globals()[f\"R{i}\"] = Radiobutton(globals()[f'result{i}'],variable=var,\n",
    "                                        value=bot_top10[i][0], command=sel)\n",
    "    globals()[f\"R{i}\"].pack()\n",
    "    globals()[f'result{i}'].grid(row=row_frame, column=0+set_column)\n",
    "\n",
    "\n",
    "e.grid(row=99, column=1)\n",
    "\n",
    "root.geometry(\"1200x700\")\n",
    "\n",
    "root.mainloop()\n"
   ]
  }
 ],
 "metadata": {
  "interpreter": {
   "hash": "b95d35a8728e2e8864a6aa1964fbc5dcbfd9c938e9cc14663986e38c332bb26b"
  },
  "kernelspec": {
   "display_name": "Python 3.9.6 64-bit",
   "name": "python3"
  },
  "language_info": {
   "codemirror_mode": {
    "name": "ipython",
    "version": 3
   },
   "file_extension": ".py",
   "mimetype": "text/x-python",
   "name": "python",
   "nbconvert_exporter": "python",
   "pygments_lexer": "ipython3",
   "version": "3.9.6"
  },
  "orig_nbformat": 4
 },
 "nbformat": 4,
 "nbformat_minor": 2
}
